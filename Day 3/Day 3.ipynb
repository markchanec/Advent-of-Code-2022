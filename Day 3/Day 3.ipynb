{
 "cells": [
  {
   "cell_type": "code",
   "execution_count": 1,
   "id": "6b654b03",
   "metadata": {
    "ExecuteTime": {
     "end_time": "2022-12-03T06:22:41.806682Z",
     "start_time": "2022-12-03T06:22:41.797248Z"
    },
    "cell_style": "center"
   },
   "outputs": [],
   "source": [
    "first =[]\n",
    "second =[]\n",
    "\n",
    "with open(\"Day_3_input.txt\") as file:\n",
    "    for line in file:\n",
    "        num_items = int(len(line)/2)\n",
    "        first.append(line[:num_items])\n",
    "        second.append(line[num_items:len(line)-1])\n",
    "#         print(line, line[:num_items], line[num_items:len(line)-1])\n",
    "#         print()"
   ]
  },
  {
   "cell_type": "code",
   "execution_count": 2,
   "id": "9f5800bc",
   "metadata": {
    "ExecuteTime": {
     "end_time": "2022-12-03T06:22:41.821956Z",
     "start_time": "2022-12-03T06:22:41.807682Z"
    }
   },
   "outputs": [],
   "source": [
    "common_items = \"\"\n",
    "\n",
    "for i in range(len(first)):\n",
    "    first[i] = \"\".join(set(first[i])) #remove duplicate items in first compartment\n",
    "    num_items = len(first[i])\n",
    "    for j in range(num_items):\n",
    "        if first[i][j] in second[i]:\n",
    "            common_items += first[i][j]"
   ]
  },
  {
   "cell_type": "code",
   "execution_count": 3,
   "id": "6b5b5e74",
   "metadata": {
    "ExecuteTime": {
     "end_time": "2022-12-03T06:22:41.837473Z",
     "start_time": "2022-12-03T06:22:41.822955Z"
    }
   },
   "outputs": [],
   "source": [
    "# Lowercase item types a through z have priorities 1 through 26.\n",
    "# Uppercase item types A through Z have priorities 27 through 52."
   ]
  },
  {
   "cell_type": "code",
   "execution_count": 4,
   "id": "a8d42ec2",
   "metadata": {
    "ExecuteTime": {
     "end_time": "2022-12-03T06:22:41.858131Z",
     "start_time": "2022-12-03T06:22:41.838462Z"
    }
   },
   "outputs": [
    {
     "name": "stdout",
     "output_type": "stream",
     "text": [
      "The ASCII value of 'a' is 97\n",
      "The ASCII value of 'A' is 65\n"
     ]
    }
   ],
   "source": [
    "print(\"The ASCII value of 'a' is\", ord('a'))\n",
    "print(\"The ASCII value of 'A' is\", ord('A'))\n",
    "\n",
    "def cal_priorities(data):\n",
    "    sum_priorities = 0\n",
    "    for i in data:\n",
    "        if ord(i) > 96:\n",
    "            sum_priorities += ord(i) - 96\n",
    "        else:\n",
    "            sum_priorities += ord(i) - 64 + 26\n",
    "    print(sum_priorities)"
   ]
  },
  {
   "cell_type": "code",
   "execution_count": 5,
   "id": "3b70b8f5",
   "metadata": {
    "ExecuteTime": {
     "end_time": "2022-12-03T06:22:41.873812Z",
     "start_time": "2022-12-03T06:22:41.859163Z"
    }
   },
   "outputs": [
    {
     "name": "stdout",
     "output_type": "stream",
     "text": [
      "8233\n"
     ]
    }
   ],
   "source": [
    "cal_priorities(common_items)"
   ]
  },
  {
   "cell_type": "code",
   "execution_count": 6,
   "id": "933bb241",
   "metadata": {
    "ExecuteTime": {
     "end_time": "2022-12-03T06:22:41.892911Z",
     "start_time": "2022-12-03T06:22:41.874798Z"
    }
   },
   "outputs": [],
   "source": [
    "#Part 2\n",
    "inputfile = []\n",
    "with open(\"Day_3_input.txt\") as file:\n",
    "    for line in file:\n",
    "        inputfile.append(line[:len(line)-1])"
   ]
  },
  {
   "cell_type": "code",
   "execution_count": 10,
   "id": "cf112202",
   "metadata": {
    "ExecuteTime": {
     "end_time": "2022-12-03T06:27:07.221332Z",
     "start_time": "2022-12-03T06:27:07.204002Z"
    }
   },
   "outputs": [
    {
     "name": "stdout",
     "output_type": "stream",
     "text": [
      "2821\n"
     ]
    }
   ],
   "source": [
    "common_items = \"\"\n",
    "\n",
    "for i in range(0,len(inputfile), 3):\n",
    "    inputfile[i] = \"\".join(set(inputfile[i])) #remove duplicate items in first bag\n",
    "    num_items = len(inputfile[i])\n",
    "    for j in range(num_items):\n",
    "        if inputfile[i][j] in inputfile[i+1] and inputfile[i][j] in inputfile[i+2]:\n",
    "            common_items += inputfile[i][j]\n",
    "            \n",
    "cal_priorities(common_items)"
   ]
  }
 ],
 "metadata": {
  "kernelspec": {
   "display_name": "Python 3 (ipykernel)",
   "language": "python",
   "name": "python3"
  },
  "language_info": {
   "codemirror_mode": {
    "name": "ipython",
    "version": 3
   },
   "file_extension": ".py",
   "mimetype": "text/x-python",
   "name": "python",
   "nbconvert_exporter": "python",
   "pygments_lexer": "ipython3",
   "version": "3.10.4"
  },
  "toc": {
   "base_numbering": 1,
   "nav_menu": {},
   "number_sections": true,
   "sideBar": true,
   "skip_h1_title": false,
   "title_cell": "Table of Contents",
   "title_sidebar": "Contents",
   "toc_cell": false,
   "toc_position": {},
   "toc_section_display": true,
   "toc_window_display": false
  }
 },
 "nbformat": 4,
 "nbformat_minor": 5
}
