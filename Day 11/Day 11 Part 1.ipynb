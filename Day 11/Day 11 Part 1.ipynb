{
 "cells": [
  {
   "cell_type": "code",
   "execution_count": 1,
   "id": "87d680a8",
   "metadata": {
    "ExecuteTime": {
     "end_time": "2022-12-11T16:52:24.167207Z",
     "start_time": "2022-12-11T16:52:24.149147Z"
    }
   },
   "outputs": [],
   "source": [
    "#input\n",
    "M0 = [61] #monkey 0\n",
    "M1  = [76,92,53,93,79,86,81]\n",
    "M2  = [91,99]\n",
    "M3  = [58,67,66]\n",
    "M4  = [94,54,62,73]\n",
    "M5  = [59,95,51,58,58]\n",
    "M6  = [87,69,92,56,91,93,88,73]\n",
    "M7  = [71,57,86,67,96,95]\n",
    "divisor = [5, 2, 13, 7, 19, 11, 3, 17]\n",
    "yes = [7,2,5,6,3,0,5,3]\n",
    "no = [4,6,0,1,7,4,2,1]\n",
    "\n",
    "#test cases\n",
    "# M0 = [79,98] #monkey 0\n",
    "# M1  = [54,65,75,74]\n",
    "# M2  = [79,60,97]\n",
    "# M3  = [74]\n",
    "# divisor = [23,19,13,17]\n",
    "# yes = [2,2,1,0]\n",
    "# no = [3,0,3,1]"
   ]
  },
  {
   "cell_type": "code",
   "execution_count": 2,
   "id": "e2278ff1",
   "metadata": {
    "ExecuteTime": {
     "end_time": "2022-12-11T16:52:24.182840Z",
     "start_time": "2022-12-11T16:52:24.168216Z"
    }
   },
   "outputs": [],
   "source": [
    "def ops(monkey, item, relieve):\n",
    "    new_item = 0\n",
    "    \n",
    "    match monkey:\n",
    "        #test cases\n",
    "#         case 0:\n",
    "#             new_item = item*19\n",
    "#             mCount[0] += 1\n",
    "#         case 1:\n",
    "#             new_item = item+6\n",
    "#             mCount[1] += 1\n",
    "#         case 2:\n",
    "#             new_item = item*item\n",
    "#             mCount[2] += 1\n",
    "#         case 3:\n",
    "#             new_item = item+3\n",
    "#             mCount[3] += 1\n",
    "        case 0:\n",
    "            new_item = item*11\n",
    "            mCount[0] += 1\n",
    "        case 1:\n",
    "            new_item = item+4\n",
    "            mCount[1] += 1\n",
    "        case 2:\n",
    "            new_item = item*19\n",
    "            mCount[2] += 1\n",
    "        case 3:\n",
    "            new_item = item*item\n",
    "            mCount[3] += 1\n",
    "        case 4:\n",
    "            new_item = item+1\n",
    "            mCount[4] += 1\n",
    "        case 5:\n",
    "            new_item = item+3\n",
    "            mCount[5] += 1\n",
    "        case 6:\n",
    "            new_item = item+8\n",
    "            mCount[6] += 1\n",
    "        case 7:\n",
    "            new_item = item+7\n",
    "            mCount[7] += 1\n",
    "    \n",
    "    if (new_item//relieve)%divisor[monkey] == 0:\n",
    "        return (int(new_item//relieve), yes[monkey])\n",
    "    else:\n",
    "        return (int(new_item//relieve), no[monkey])"
   ]
  },
  {
   "cell_type": "code",
   "execution_count": 3,
   "id": "b26b727d",
   "metadata": {
    "ExecuteTime": {
     "end_time": "2022-12-11T16:52:24.214249Z",
     "start_time": "2022-12-11T16:52:24.183827Z"
    }
   },
   "outputs": [
    {
     "name": "stdout",
     "output_type": "stream",
     "text": [
      "[192, 276, 201, 15, 257, 87, 138, 278]\n"
     ]
    },
    {
     "data": {
      "text/plain": [
       "76728"
      ]
     },
     "execution_count": 3,
     "metadata": {},
     "output_type": "execute_result"
    }
   ],
   "source": [
    "#part 1\n",
    "mCount = [0,0,0,0,0,0,0,0] #active monkeys\n",
    "\n",
    "for k in range(20):\n",
    "    relive = 3\n",
    "    for i in range(8): #iterate monkeys from M0 to M7\n",
    "        while len(eval(\"M\"+str(i))) >0: #iterate thru items for each monkey\n",
    "            new_item, next_monkey = ops(i, eval(\"M\"+str(i)+\"[0]\"), relive) #try the first item held by monkey \n",
    "            eval(\"M\"+str(i)).pop(0)           #remove the first item\n",
    "            eval(\"M\"+str(next_monkey)).append(new_item)\n",
    "\n",
    "print(mCount)\n",
    "mCount.sort(reverse=True)\n",
    "mCount[0]*mCount[1]"
   ]
  }
 ],
 "metadata": {
  "kernelspec": {
   "display_name": "Python 3 (ipykernel)",
   "language": "python",
   "name": "python3"
  },
  "language_info": {
   "codemirror_mode": {
    "name": "ipython",
    "version": 3
   },
   "file_extension": ".py",
   "mimetype": "text/x-python",
   "name": "python",
   "nbconvert_exporter": "python",
   "pygments_lexer": "ipython3",
   "version": "3.10.4"
  },
  "toc": {
   "base_numbering": 1,
   "nav_menu": {},
   "number_sections": true,
   "sideBar": true,
   "skip_h1_title": false,
   "title_cell": "Table of Contents",
   "title_sidebar": "Contents",
   "toc_cell": false,
   "toc_position": {},
   "toc_section_display": true,
   "toc_window_display": false
  }
 },
 "nbformat": 4,
 "nbformat_minor": 5
}
