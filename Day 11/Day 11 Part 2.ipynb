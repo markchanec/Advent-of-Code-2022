{
 "cells": [
  {
   "cell_type": "code",
   "execution_count": 1,
   "id": "87d680a8",
   "metadata": {
    "ExecuteTime": {
     "end_time": "2022-12-12T13:04:32.322081Z",
     "start_time": "2022-12-12T13:04:32.308308Z"
    }
   },
   "outputs": [],
   "source": [
    "#input\n",
    "M0 = [61] #monkey 0\n",
    "M1  = [76,92,53,93,79,86,81]\n",
    "M2  = [91,99]\n",
    "M3  = [58,67,66]\n",
    "M4  = [94,54,62,73]\n",
    "M5  = [59,95,51,58,58]\n",
    "M6  = [87,69,92,56,91,93,88,73]\n",
    "M7  = [71,57,86,67,96,95]\n",
    "divisor = [5, 2, 13, 7, 19, 11, 3, 17]\n",
    "yes = [7,2,5,6,3,0,5,3]\n",
    "no = [4,6,0,1,7,4,2,1]"
   ]
  },
  {
   "cell_type": "code",
   "execution_count": 2,
   "id": "e2278ff1",
   "metadata": {
    "ExecuteTime": {
     "end_time": "2022-12-12T13:04:32.337275Z",
     "start_time": "2022-12-12T13:04:32.323085Z"
    }
   },
   "outputs": [],
   "source": [
    "def ops(monkey, item, relieve):\n",
    "    new_item = 0\n",
    "    \n",
    "    match monkey:\n",
    "        case 0:\n",
    "            new_item = item*11\n",
    "            mCount[0] += 1\n",
    "        case 1:\n",
    "            new_item = item+4\n",
    "            mCount[1] += 1\n",
    "        case 2:\n",
    "            new_item = item*19\n",
    "            mCount[2] += 1\n",
    "        case 3:\n",
    "            new_item = item*item\n",
    "            mCount[3] += 1\n",
    "        case 4:\n",
    "            new_item = item+1\n",
    "            mCount[4] += 1\n",
    "        case 5:\n",
    "            new_item = item+3\n",
    "            mCount[5] += 1\n",
    "        case 6:\n",
    "            new_item = item+8\n",
    "            mCount[6] += 1\n",
    "        case 7:\n",
    "            new_item = item+7\n",
    "            mCount[7] += 1\n",
    "    \n",
    "    if int(new_item%relieve)%divisor[monkey] == 0: #number reduction here, maintaining modulus\n",
    "        return (int(new_item%relieve), yes[monkey])\n",
    "    else:\n",
    "        return (int(new_item%relieve), no[monkey])"
   ]
  },
  {
   "cell_type": "code",
   "execution_count": 3,
   "id": "b26b727d",
   "metadata": {
    "ExecuteTime": {
     "end_time": "2022-12-12T13:04:42.003067Z",
     "start_time": "2022-12-12T13:04:32.338275Z"
    }
   },
   "outputs": [
    {
     "name": "stdout",
     "output_type": "stream",
     "text": [
      "[132749, 146812, 142106, 21504, 137507, 20747, 43332, 146813]\n"
     ]
    },
    {
     "data": {
      "text/plain": [
       "21553910156"
      ]
     },
     "execution_count": 3,
     "metadata": {},
     "output_type": "execute_result"
    }
   ],
   "source": [
    "#part 2\n",
    "mCount = [0,0,0,0,0,0,0,0] #active monkeys\n",
    "from functools import reduce\n",
    "relive = reduce(lambda x, y: x*y, divisor) #reduction LCM\n",
    "\n",
    "for k in range(10_000):\n",
    "    print (k, \"cycles\", end=\"\\r\")\n",
    "    for i in range(8): #iterate monkeys from M0 to M7\n",
    "        while len(eval(\"M\"+str(i))) >0: #iterate thru items for each monkey\n",
    "            new_item, next_monkey = ops(i, eval(\"M\"+str(i)+\"[0]\"), relive) #try the first item held by monkey \n",
    "            eval(\"M\"+str(i)).pop(0)           #remove the first item\n",
    "            eval(\"M\"+str(next_monkey)).append(new_item)\n",
    "\n",
    "print(mCount)\n",
    "mCount.sort(reverse=True)\n",
    "mCount[0]*mCount[1]"
   ]
  },
  {
   "cell_type": "code",
   "execution_count": 4,
   "id": "bb56bd86",
   "metadata": {
    "ExecuteTime": {
     "end_time": "2022-12-12T13:04:42.018343Z",
     "start_time": "2022-12-12T13:04:42.005068Z"
    }
   },
   "outputs": [
    {
     "data": {
      "text/plain": [
       "' (commutative property?)\\nResearch Division theorem / Modular Arithmetic / Congruence\\n\\nTo preserve item % divisor == num\\nimplies (item % relive) % divisor ==num, where relive is a mulplier of divisor\\n\\nTherefore, for all monkeys to preserve the same calculation.\\nWe use the Lowest Common Mulitplier (LCM) of all divisor.\\nFor this question, all the numbers are prime and so we simply multiply them together to get LCM.\\n\\nif item < LCM: num is still the same\\nif item > LCM: num maintains since it is a multiplier\\n\\neg. 1: 111 % 5 == 1\\n    2: 65  % 3 == 2\\n    \\nLCM = 5 * 3 = 15\\n\\n1: (111%15) %5 = 6 %5\\n               = 1\\n2:  (65%15) %3 = 5 %3\\n               = 2\\n'"
      ]
     },
     "execution_count": 4,
     "metadata": {},
     "output_type": "execute_result"
    }
   ],
   "source": [
    "\"\"\" (commutative property?)\n",
    "Research Division theorem / Modular Arithmetic / Congruence\n",
    "\n",
    "To preserve item % divisor == num\n",
    "implies (item % relive) % divisor ==num, where relive is a mulplier of divisor\n",
    "\n",
    "Therefore, for all monkeys to preserve the same calculation.\n",
    "We use the Lowest Common Mulitplier (LCM) of all divisor.\n",
    "For this question, all the numbers are prime and so we simply multiply them together to get LCM.\n",
    "\n",
    "if item < LCM: num is still the same\n",
    "if item > LCM: num maintains since it is a multiplier\n",
    "\n",
    "eg. 1: 111 % 5 == 1\n",
    "    2: 65  % 3 == 2\n",
    "    \n",
    "LCM = 5 * 3 = 15\n",
    "\n",
    "1: (111%15) %5 = 6 %5\n",
    "               = 1\n",
    "2:  (65%15) %3 = 5 %3\n",
    "               = 2\n",
    "\"\"\""
   ]
  }
 ],
 "metadata": {
  "kernelspec": {
   "display_name": "Python 3 (ipykernel)",
   "language": "python",
   "name": "python3"
  },
  "language_info": {
   "codemirror_mode": {
    "name": "ipython",
    "version": 3
   },
   "file_extension": ".py",
   "mimetype": "text/x-python",
   "name": "python",
   "nbconvert_exporter": "python",
   "pygments_lexer": "ipython3",
   "version": "3.10.4"
  },
  "toc": {
   "base_numbering": 1,
   "nav_menu": {},
   "number_sections": true,
   "sideBar": true,
   "skip_h1_title": false,
   "title_cell": "Table of Contents",
   "title_sidebar": "Contents",
   "toc_cell": false,
   "toc_position": {},
   "toc_section_display": true,
   "toc_window_display": false
  }
 },
 "nbformat": 4,
 "nbformat_minor": 5
}
