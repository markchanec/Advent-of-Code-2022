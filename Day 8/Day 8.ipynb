{
 "cells": [
  {
   "cell_type": "code",
   "execution_count": 1,
   "id": "6b654b03",
   "metadata": {
    "ExecuteTime": {
     "end_time": "2022-12-08T11:50:47.679272Z",
     "start_time": "2022-12-08T11:50:47.652348Z"
    },
    "cell_style": "center"
   },
   "outputs": [
    {
     "data": {
      "text/plain": [
       "392"
      ]
     },
     "execution_count": 1,
     "metadata": {},
     "output_type": "execute_result"
    }
   ],
   "source": [
    "inputfile = []\n",
    "\n",
    "with open(\"Day_8_input.txt\") as file:\n",
    "    for line in file:\n",
    "        line = line.strip()\n",
    "        inputfile.append(line)\n",
    "\n",
    "#add trees around border\n",
    "seen = len(inputfile[0])*2 #top-bottom file\n",
    "seen += len(inputfile)*2 - 2*2 #left and right\n",
    "seen"
   ]
  },
  {
   "cell_type": "code",
   "execution_count": 2,
   "id": "387135fe",
   "metadata": {
    "ExecuteTime": {
     "end_time": "2022-12-08T11:50:47.866058Z",
     "start_time": "2022-12-08T11:50:47.680257Z"
    }
   },
   "outputs": [
    {
     "data": {
      "text/plain": [
       "1681"
      ]
     },
     "execution_count": 2,
     "metadata": {},
     "output_type": "execute_result"
    }
   ],
   "source": [
    "#part 1\n",
    "\n",
    "for i in range(1, len(inputfile)-1):                     #start 2nd row, ignoring last row\n",
    "    for j in range(1, len(inputfile[0])-1):              #start 2nd colunmn, ignoring last column\n",
    "        tree = inputfile[i][j]                           #consider edge case if forest is too small\n",
    "#         print(i, j, tree)\n",
    "\n",
    "        #check left\n",
    "        from_left = []\n",
    "        for k in range(0, j):                            #from 1st column on same row to tree\n",
    "#             print(\"inputfile[i][k]\", inputfile[i][k])\n",
    "            if tree > inputfile[i][k]:\n",
    "                from_left.append(0)                      #unblock\n",
    "            else:\n",
    "                from_left.append(1)                      #block\n",
    "        \n",
    "        #check right\n",
    "        from_right = []\n",
    "        for k in range(len(inputfile[0])-1, j, -1):      #from last column on same row to tree\n",
    "#             print(\"inputfile[i][k]\", inputfile[i][k])\n",
    "            if tree > inputfile[i][k]:\n",
    "                from_right.append(0) \n",
    "            else:\n",
    "                from_right.append(1)\n",
    "        \n",
    "        #check top\n",
    "        from_top = []\n",
    "        for k in range(0, i):                            #from 1st row on same column to tree\n",
    "#             print(\"inputfile[k][i]\", inputfile[k][i])\n",
    "            if tree > inputfile[k][j]:\n",
    "                from_top.append(0)\n",
    "            else:\n",
    "                from_top.append(1)\n",
    "        \n",
    "        #check bottom\n",
    "        from_bottom = []\n",
    "        for k in range(len(inputfile)-1, i, -1):         #from last row on same column to tree\n",
    "#             print(\"inputfile[k][i]\", inputfile[k][i])\n",
    "            if tree > inputfile[k][j]:\n",
    "                from_bottom.append(0)\n",
    "            else:\n",
    "                from_bottom.append(1)\n",
    "                \n",
    "        if sum(from_left)==0 or sum(from_right)==0 or sum(from_top)==0 or sum(from_bottom)==0:\n",
    "#             print(i,j, inputfile[i][j] )\n",
    "            seen += 1\n",
    "            from_left, from_right, from_top, from_bottom = [],[],[],[]\n",
    "            \n",
    "seen"
   ]
  },
  {
   "cell_type": "code",
   "execution_count": 3,
   "id": "262b6152",
   "metadata": {
    "ExecuteTime": {
     "end_time": "2022-12-08T11:50:47.898058Z",
     "start_time": "2022-12-08T11:50:47.867043Z"
    }
   },
   "outputs": [
    {
     "data": {
      "text/plain": [
       "201684"
      ]
     },
     "execution_count": 3,
     "metadata": {},
     "output_type": "execute_result"
    }
   ],
   "source": [
    "#part 2\n",
    "viewrange = []\n",
    "\n",
    "for i in range(1, len(inputfile)-1):                     #start 2nd row, ignoring last row\n",
    "    for j in range(1, len(inputfile[0])-1):              #start 2nd colunmn, ignoring last column\n",
    "        tree = inputfile[i][j]                           #consider edge case if forest is too small\n",
    "#         print(i, j, tree)\n",
    "        \n",
    "    #see left\n",
    "        blocked = False\n",
    "        see_left = 0\n",
    "        k = int(j)\n",
    "        while not blocked and k>0:\n",
    "            if tree <= inputfile[i][k-1]:\n",
    "                blocked = True\n",
    "            see_left += 1\n",
    "            k -= 1\n",
    "            \n",
    "    #see right\n",
    "        blocked = False\n",
    "        see_right = 0\n",
    "        k = j\n",
    "        while not blocked and k<len(inputfile[i])-1:\n",
    "            if tree <= inputfile[i][k+1]:\n",
    "                blocked = True\n",
    "            see_right += 1\n",
    "            k += 1\n",
    "                \n",
    "    #see top\n",
    "        blocked = False\n",
    "        see_top = 0\n",
    "        k = i\n",
    "        while not blocked and k>0:\n",
    "            if tree <= inputfile[k-1][j]:\n",
    "                blocked = True\n",
    "            see_top += 1\n",
    "            k -= 1\n",
    "            \n",
    "    #see bottom\n",
    "        blocked = False\n",
    "        see_bottom = 0\n",
    "        k = i\n",
    "        while not blocked and k<len(inputfile)-1:\n",
    "            if tree <= inputfile[k+1][j]:\n",
    "                blocked = True\n",
    "            see_bottom += 1\n",
    "            k += 1\n",
    "            \n",
    "        viewrange.append(see_left*see_right*see_top*see_bottom)\n",
    "\n",
    "max(viewrange)"
   ]
  }
 ],
 "metadata": {
  "kernelspec": {
   "display_name": "Python 3 (ipykernel)",
   "language": "python",
   "name": "python3"
  },
  "language_info": {
   "codemirror_mode": {
    "name": "ipython",
    "version": 3
   },
   "file_extension": ".py",
   "mimetype": "text/x-python",
   "name": "python",
   "nbconvert_exporter": "python",
   "pygments_lexer": "ipython3",
   "version": "3.10.4"
  },
  "toc": {
   "base_numbering": 1,
   "nav_menu": {},
   "number_sections": true,
   "sideBar": true,
   "skip_h1_title": false,
   "title_cell": "Table of Contents",
   "title_sidebar": "Contents",
   "toc_cell": false,
   "toc_position": {},
   "toc_section_display": true,
   "toc_window_display": false
  }
 },
 "nbformat": 4,
 "nbformat_minor": 5
}
