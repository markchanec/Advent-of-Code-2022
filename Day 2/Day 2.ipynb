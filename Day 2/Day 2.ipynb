{
 "cells": [
  {
   "cell_type": "code",
   "execution_count": null,
   "id": "c7b2c517",
   "metadata": {},
   "outputs": [],
   "source": [
    "#A for Rock, B for Paper, and C for Scissors\n",
    "#1, 2, 3 points\n",
    "#X for Rock, Y for Paper, and Z for Scissors\n",
    "#win/draw/lose - 6/3/0 pts"
   ]
  },
  {
   "cell_type": "code",
   "execution_count": 1,
   "id": "6b654b03",
   "metadata": {
    "ExecuteTime": {
     "end_time": "2022-12-02T06:58:51.697416Z",
     "start_time": "2022-12-02T06:58:51.682227Z"
    }
   },
   "outputs": [],
   "source": [
    "first =[]\n",
    "second =[]\n",
    "\n",
    "with open(\"Day_2_input.txt\") as file:\n",
    "    for line in file:\n",
    "        first.append(line[0])\n",
    "        if line[2] == \"X\":\n",
    "            second.append(\"A\")\n",
    "        if line[2] == \"Y\":\n",
    "            second.append(\"B\")\n",
    "        if line[2] == \"Z\":\n",
    "            second.append(\"C\")"
   ]
  },
  {
   "cell_type": "code",
   "execution_count": 3,
   "id": "bb50a108",
   "metadata": {
    "ExecuteTime": {
     "end_time": "2022-12-02T06:58:59.731040Z",
     "start_time": "2022-12-02T06:58:59.714941Z"
    }
   },
   "outputs": [],
   "source": [
    "def cal_score(first, second):\n",
    "    score = 0\n",
    "    for i in range(len(first)):\n",
    "        if first[i]==second[i]:\n",
    "            score += 3\n",
    "        elif first[i]=='A' and second[i]=='B':\n",
    "            score += 6\n",
    "        elif first[i]=='B' and second[i]=='C':\n",
    "            score += 6\n",
    "        elif first[i]=='C' and second[i]=='A':\n",
    "            score += 6\n",
    "        else: #lost\n",
    "            score = score\n",
    "\n",
    "        if second[i] == 'A':\n",
    "            score += 1\n",
    "        elif second[i] == 'B':\n",
    "            score += 2\n",
    "        else:\n",
    "            score += 3\n",
    "    return score"
   ]
  },
  {
   "cell_type": "code",
   "execution_count": 4,
   "id": "ad6a9601",
   "metadata": {
    "ExecuteTime": {
     "end_time": "2022-12-02T06:59:02.424776Z",
     "start_time": "2022-12-02T06:59:02.414212Z"
    }
   },
   "outputs": [
    {
     "data": {
      "text/plain": [
       "13009"
      ]
     },
     "execution_count": 4,
     "metadata": {},
     "output_type": "execute_result"
    }
   ],
   "source": [
    "cal_score(first, second)"
   ]
  },
  {
   "cell_type": "code",
   "execution_count": null,
   "id": "58ca3578",
   "metadata": {},
   "outputs": [],
   "source": [
    "#Part 2\n",
    "#X - lose, Y - draw, Z - win"
   ]
  },
  {
   "cell_type": "code",
   "execution_count": 5,
   "id": "248beea6",
   "metadata": {
    "ExecuteTime": {
     "end_time": "2022-12-02T07:02:03.104864Z",
     "start_time": "2022-12-02T07:02:03.095499Z"
    }
   },
   "outputs": [],
   "source": [
    "first =[]\n",
    "second =[]\n",
    "\n",
    "with open(\"Day_2_input.txt\") as file:\n",
    "    for line in file:\n",
    "        first.append(line[0])\n",
    "        if line[2] == 'X' and line[0] == 'A':\n",
    "            second.append('C')\n",
    "        elif line[2] == 'X' and line[0] == 'B':\n",
    "            second.append('A')\n",
    "        elif line[2] == 'X' and line[0] == 'C':\n",
    "            second.append('B')\n",
    "        elif line[2] == 'Z' and line[0] == 'A':\n",
    "            second.append('B')\n",
    "        elif line[2] == 'Z' and line[0] == 'B':\n",
    "            second.append('C')\n",
    "        elif line[2] == 'Z' and line[0] == 'C':\n",
    "            second.append('A')\n",
    "        else: #draw\n",
    "            second.append(line[0])"
   ]
  },
  {
   "cell_type": "code",
   "execution_count": 6,
   "id": "44b0a6c8",
   "metadata": {
    "ExecuteTime": {
     "end_time": "2022-12-02T07:02:06.432702Z",
     "start_time": "2022-12-02T07:02:06.418382Z"
    }
   },
   "outputs": [
    {
     "data": {
      "text/plain": [
       "10398"
      ]
     },
     "execution_count": 6,
     "metadata": {},
     "output_type": "execute_result"
    }
   ],
   "source": [
    "cal_score(first, second)"
   ]
  }
 ],
 "metadata": {
  "kernelspec": {
   "display_name": "Python 3 (ipykernel)",
   "language": "python",
   "name": "python3"
  },
  "language_info": {
   "codemirror_mode": {
    "name": "ipython",
    "version": 3
   },
   "file_extension": ".py",
   "mimetype": "text/x-python",
   "name": "python",
   "nbconvert_exporter": "python",
   "pygments_lexer": "ipython3",
   "version": "3.10.4"
  },
  "toc": {
   "base_numbering": 1,
   "nav_menu": {},
   "number_sections": true,
   "sideBar": true,
   "skip_h1_title": false,
   "title_cell": "Table of Contents",
   "title_sidebar": "Contents",
   "toc_cell": false,
   "toc_position": {},
   "toc_section_display": true,
   "toc_window_display": false
  }
 },
 "nbformat": 4,
 "nbformat_minor": 5
}
