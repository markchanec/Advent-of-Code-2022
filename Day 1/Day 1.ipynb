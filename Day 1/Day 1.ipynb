{
 "cells": [
  {
   "cell_type": "code",
   "execution_count": 1,
   "id": "e2569d3d",
   "metadata": {
    "ExecuteTime": {
     "end_time": "2022-12-01T12:51:13.678032Z",
     "start_time": "2022-12-01T12:51:13.658594Z"
    }
   },
   "outputs": [],
   "source": [
    "elves =[]\n",
    "with open(\"Day_1_input.txt\") as file:\n",
    "    total = 0\n",
    "    for line in file:\n",
    "        line = line.strip()\n",
    "        if line == \"\":\n",
    "            elves.append(total)\n",
    "            total = 0\n",
    "        else:\n",
    "            total += int(line)"
   ]
  },
  {
   "cell_type": "code",
   "execution_count": 2,
   "id": "9c94658e",
   "metadata": {
    "ExecuteTime": {
     "end_time": "2022-12-01T12:51:22.191491Z",
     "start_time": "2022-12-01T12:51:22.177250Z"
    }
   },
   "outputs": [
    {
     "data": {
      "text/plain": [
       "70296"
      ]
     },
     "execution_count": 2,
     "metadata": {},
     "output_type": "execute_result"
    }
   ],
   "source": [
    "max(elves)"
   ]
  },
  {
   "cell_type": "code",
   "execution_count": 3,
   "id": "d7fb17cc",
   "metadata": {
    "ExecuteTime": {
     "end_time": "2022-12-01T12:51:47.514874Z",
     "start_time": "2022-12-01T12:51:47.511938Z"
    }
   },
   "outputs": [
    {
     "data": {
      "text/plain": [
       "205381"
      ]
     },
     "execution_count": 3,
     "metadata": {},
     "output_type": "execute_result"
    }
   ],
   "source": [
    "elves.sort(reverse=True)\n",
    "sum(elves[:3])"
   ]
  }
 ],
 "metadata": {
  "kernelspec": {
   "display_name": "Python 3 (ipykernel)",
   "language": "python",
   "name": "python3"
  },
  "language_info": {
   "codemirror_mode": {
    "name": "ipython",
    "version": 3
   },
   "file_extension": ".py",
   "mimetype": "text/x-python",
   "name": "python",
   "nbconvert_exporter": "python",
   "pygments_lexer": "ipython3",
   "version": "3.10.4"
  },
  "toc": {
   "base_numbering": 1,
   "nav_menu": {},
   "number_sections": true,
   "sideBar": true,
   "skip_h1_title": false,
   "title_cell": "Table of Contents",
   "title_sidebar": "Contents",
   "toc_cell": false,
   "toc_position": {},
   "toc_section_display": true,
   "toc_window_display": false
  }
 },
 "nbformat": 4,
 "nbformat_minor": 5
}
