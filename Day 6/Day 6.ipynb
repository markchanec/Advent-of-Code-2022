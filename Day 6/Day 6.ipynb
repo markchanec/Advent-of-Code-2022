{
 "cells": [
  {
   "cell_type": "code",
   "execution_count": 2,
   "id": "6b654b03",
   "metadata": {
    "ExecuteTime": {
     "end_time": "2022-12-06T11:09:22.236899Z",
     "start_time": "2022-12-06T11:09:22.221101Z"
    },
    "cell_style": "center"
   },
   "outputs": [],
   "source": [
    "with open(\"Day_6_input.txt\") as file:\n",
    "    inputfile = file.readlines()\n",
    "\n",
    "buffer=inputfile[0]"
   ]
  },
  {
   "cell_type": "code",
   "execution_count": 3,
   "id": "387135fe",
   "metadata": {
    "ExecuteTime": {
     "end_time": "2022-12-06T11:09:22.251916Z",
     "start_time": "2022-12-06T11:09:22.237920Z"
    }
   },
   "outputs": [
    {
     "name": "stdout",
     "output_type": "stream",
     "text": [
      "1480 fwgm\n"
     ]
    }
   ],
   "source": [
    "#part 1\n",
    "i = 3\n",
    "end = len(buffer)\n",
    "\n",
    "while i < end:\n",
    "    temp = buffer[i-3] + buffer[i-2] + buffer[i-1] + buffer[i]\n",
    "\n",
    "    if len(temp) == len(\"\".join(set(temp))):\n",
    "        print(i+1, temp)\n",
    "        i = len(buffer)\n",
    "    i += 1"
   ]
  },
  {
   "cell_type": "code",
   "execution_count": 4,
   "id": "262b6152",
   "metadata": {
    "ExecuteTime": {
     "end_time": "2022-12-06T11:09:22.267899Z",
     "start_time": "2022-12-06T11:09:22.252917Z"
    }
   },
   "outputs": [
    {
     "name": "stdout",
     "output_type": "stream",
     "text": [
      "2746 rtbslqvhfpcnwm\n"
     ]
    }
   ],
   "source": [
    "#part 2\n",
    "i = 14\n",
    "end = len(buffer)\n",
    "\n",
    "while i < end:\n",
    "    temp = \"\"\n",
    "    for j in range(14):\n",
    "        temp += buffer[i-j]\n",
    "\n",
    "    if len(temp) == len(\"\".join(set(temp))):\n",
    "        print(i+1, temp)\n",
    "        i = len(buffer)\n",
    "    i += 1"
   ]
  }
 ],
 "metadata": {
  "kernelspec": {
   "display_name": "Python 3 (ipykernel)",
   "language": "python",
   "name": "python3"
  },
  "language_info": {
   "codemirror_mode": {
    "name": "ipython",
    "version": 3
   },
   "file_extension": ".py",
   "mimetype": "text/x-python",
   "name": "python",
   "nbconvert_exporter": "python",
   "pygments_lexer": "ipython3",
   "version": "3.10.4"
  },
  "toc": {
   "base_numbering": 1,
   "nav_menu": {},
   "number_sections": true,
   "sideBar": true,
   "skip_h1_title": false,
   "title_cell": "Table of Contents",
   "title_sidebar": "Contents",
   "toc_cell": false,
   "toc_position": {},
   "toc_section_display": true,
   "toc_window_display": false
  }
 },
 "nbformat": 4,
 "nbformat_minor": 5
}
