{
 "cells": [
  {
   "cell_type": "code",
   "execution_count": 1,
   "id": "95c7d8fe",
   "metadata": {
    "ExecuteTime": {
     "end_time": "2022-12-25T10:51:46.052357Z",
     "start_time": "2022-12-25T10:51:46.043140Z"
    }
   },
   "outputs": [],
   "source": [
    "def get_decimal(snafu): #snafu to base 10\n",
    "    snafu = snafu[::-1].strip()\n",
    "    total, num = 0, 1\n",
    "\n",
    "    for i in range(len(snafu)):\n",
    "        if snafu[i] == '-':\n",
    "            num = -1\n",
    "        elif snafu[i] == '=':\n",
    "            num = -2\n",
    "        else:\n",
    "            num = snafu[i]\n",
    "        total += (5**i)*int(num) #1x5, 1x5x5, 1x5x5x5 etc\n",
    "    return total\n",
    "\n",
    "def to_base5(num, base=5): #decimal to base 5\n",
    "    total_str=''\n",
    "    num,remainder = divmod(num,base)\n",
    "    if num:#num!=0\n",
    "        total_str = str(to_base5(num)) + str(remainder)\n",
    "#         print(total_str)\n",
    "    else:\n",
    "        total_str = str(remainder)\n",
    "    return total_str\n",
    "\n",
    "def to_snafu(decimal): #decimal to snafu\n",
    "    base5_str = to_base5(decimal) #decimal to base5_str\n",
    "#     print(base5_str)\n",
    "\n",
    "    #snafu has no digit 3,4\n",
    "    base5_str = base5_str[::-1]\n",
    "    conversion = ''\n",
    "    digit, overflow = 0, 0 #computer science numeral system for overflow\n",
    "    \n",
    "    for i in range(len(base5_str)):\n",
    "        digit = base5_str[i]\n",
    "\n",
    "        if overflow == 1:\n",
    "            digit = str(int(digit) + 1)\n",
    "            overflow = 0\n",
    "\n",
    "        if digit == '3':\n",
    "            digit = '='\n",
    "            overflow = 1\n",
    "        elif digit == '4':\n",
    "            digit = '-'\n",
    "            overflow = 1\n",
    "        elif digit == \"5\":\n",
    "            digit = '0'\n",
    "            overflow = 1\n",
    "\n",
    "        conversion += str( digit)\n",
    "        \n",
    "    #check last digit for overflow\n",
    "    if overflow == 1:\n",
    "        conversion[-1] += str(int(conversion[-1]) + 1)\n",
    "    return conversion[::-1]"
   ]
  },
  {
   "cell_type": "code",
   "execution_count": 2,
   "id": "3ba15812",
   "metadata": {
    "ExecuteTime": {
     "end_time": "2022-12-25T10:51:46.067644Z",
     "start_time": "2022-12-25T10:51:46.054295Z"
    }
   },
   "outputs": [
    {
     "name": "stdout",
     "output_type": "stream",
     "text": [
      "4890 2=-1=0\n"
     ]
    }
   ],
   "source": [
    "total = 0\n",
    "#testing\n",
    "with open(\"Day_25_test.txt\") as file:\n",
    "    for line in file:\n",
    "        total += get_decimal(line)\n",
    "    print(total, to_snafu(total)) #4890, 2 = - 1 = 0"
   ]
  },
  {
   "cell_type": "code",
   "execution_count": 3,
   "id": "379bd005",
   "metadata": {
    "ExecuteTime": {
     "end_time": "2022-12-25T10:51:46.083637Z",
     "start_time": "2022-12-25T10:51:46.068617Z"
    }
   },
   "outputs": [
    {
     "name": "stdout",
     "output_type": "stream",
     "text": [
      "35422591760336 2-121-=10=200==2==21\n"
     ]
    }
   ],
   "source": [
    "total = 0\n",
    "#part 2\n",
    "with open(\"Day_25_input.txt\") as file:\n",
    "    for line in file:\n",
    "        total += get_decimal(line)\n",
    "    print(total, to_snafu(total))"
   ]
  }
 ],
 "metadata": {
  "kernelspec": {
   "display_name": "Python 3 (ipykernel)",
   "language": "python",
   "name": "python3"
  },
  "language_info": {
   "codemirror_mode": {
    "name": "ipython",
    "version": 3
   },
   "file_extension": ".py",
   "mimetype": "text/x-python",
   "name": "python",
   "nbconvert_exporter": "python",
   "pygments_lexer": "ipython3",
   "version": "3.10.4"
  },
  "toc": {
   "base_numbering": 1,
   "nav_menu": {},
   "number_sections": true,
   "sideBar": true,
   "skip_h1_title": false,
   "title_cell": "Table of Contents",
   "title_sidebar": "Contents",
   "toc_cell": false,
   "toc_position": {},
   "toc_section_display": true,
   "toc_window_display": false
  }
 },
 "nbformat": 4,
 "nbformat_minor": 5
}
