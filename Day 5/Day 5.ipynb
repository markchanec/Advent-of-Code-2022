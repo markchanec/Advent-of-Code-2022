{
 "cells": [
  {
   "cell_type": "code",
   "execution_count": 5,
   "id": "6b654b03",
   "metadata": {
    "ExecuteTime": {
     "end_time": "2022-12-05T13:01:59.928730Z",
     "start_time": "2022-12-05T13:01:59.922731Z"
    },
    "cell_style": "center"
   },
   "outputs": [],
   "source": [
    "S1 = ['N', 'D', 'M', 'Q', 'B', 'P', 'Z']\n",
    "S2 = ['C', 'L', 'Z', 'Q', 'M', 'D', 'H', 'V']\n",
    "S3 = ['Q', 'H', 'R', 'D', 'V', 'F', 'Z', 'G']\n",
    "S4 = ['H', 'G', 'D', 'F', 'N']\n",
    "S5 = ['N', 'F', 'Q']\n",
    "S6 = ['D', 'Q', 'V', 'Z', 'F', 'B', 'T']\n",
    "S7 = ['Q', 'M', 'T', 'Z', 'D', 'V', 'S', 'H']\n",
    "S8 = ['M', 'G', 'F', 'P', 'N', 'Q']\n",
    "S9 = ['B', 'W', 'R', 'M']\n",
    "\n",
    "num, source, dest, crane = [], [], [], []\n",
    "with open(\"Day_5_input.txt\") as file:\n",
    "    for line in file:\n",
    "        line = line[5:].strip()\n",
    "        number, temp = line.split('from')\n",
    "        num.append(number.strip())\n",
    "        \n",
    "        s, d = temp.split('to')\n",
    "        source.append(s.strip())\n",
    "        dest.append(d.strip())\n",
    "#         print(line, number, s, d)"
   ]
  },
  {
   "cell_type": "code",
   "execution_count": 3,
   "id": "387135fe",
   "metadata": {
    "ExecuteTime": {
     "end_time": "2022-12-05T13:01:20.794462Z",
     "start_time": "2022-12-05T13:01:20.775929Z"
    }
   },
   "outputs": [
    {
     "name": "stdout",
     "output_type": "stream",
     "text": [
      "QGTHFZBHV\n"
     ]
    }
   ],
   "source": [
    "#part 1\n",
    "for i in range(len(num)):  \n",
    "    for j in range(int(num[i])):\n",
    "        box = eval(\"S\"+source[i]).pop()\n",
    "        eval(\"S\"+dest[i]).append(box)\n",
    "    \n",
    "print(\n",
    "S1[-1]+S2[-1]+S3[-1]+S4[-1]+S5[-1]+S6[-1]+S7[-1]+S8[-1]+S9[-1]\n",
    ")"
   ]
  },
  {
   "cell_type": "code",
   "execution_count": 6,
   "id": "262b6152",
   "metadata": {
    "ExecuteTime": {
     "end_time": "2022-12-05T13:02:02.263356Z",
     "start_time": "2022-12-05T13:02:02.245369Z"
    }
   },
   "outputs": [
    {
     "name": "stdout",
     "output_type": "stream",
     "text": [
      "MGDMPSZTM\n"
     ]
    }
   ],
   "source": [
    "#part 2 - must re-run first cell\n",
    "for i in range(len(num)):   \n",
    "    for j in range(int(num[i])):\n",
    "        box = eval(\"S\"+source[i]).pop()\n",
    "        crane.append(box)\n",
    "    \n",
    "    for k in range(len(crane)):\n",
    "        box = crane.pop()\n",
    "        eval(\"S\"+dest[i]).append(box)\n",
    "    \n",
    "print(\n",
    "S1[-1]+S2[-1]+S3[-1]+S4[-1]+S5[-1]+S6[-1]+S7[-1]+S8[-1]+S9[-1]\n",
    ")"
   ]
  }
 ],
 "metadata": {
  "kernelspec": {
   "display_name": "Python 3 (ipykernel)",
   "language": "python",
   "name": "python3"
  },
  "language_info": {
   "codemirror_mode": {
    "name": "ipython",
    "version": 3
   },
   "file_extension": ".py",
   "mimetype": "text/x-python",
   "name": "python",
   "nbconvert_exporter": "python",
   "pygments_lexer": "ipython3",
   "version": "3.10.4"
  },
  "toc": {
   "base_numbering": 1,
   "nav_menu": {},
   "number_sections": true,
   "sideBar": true,
   "skip_h1_title": false,
   "title_cell": "Table of Contents",
   "title_sidebar": "Contents",
   "toc_cell": false,
   "toc_position": {},
   "toc_section_display": true,
   "toc_window_display": false
  }
 },
 "nbformat": 4,
 "nbformat_minor": 5
}
