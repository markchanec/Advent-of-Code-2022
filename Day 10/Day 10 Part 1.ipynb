{
 "cells": [
  {
   "cell_type": "code",
   "execution_count": 1,
   "id": "97463c86",
   "metadata": {
    "ExecuteTime": {
     "end_time": "2022-12-10T17:27:17.910901Z",
     "start_time": "2022-12-10T17:27:17.898367Z"
    }
   },
   "outputs": [],
   "source": [
    "def get_data():\n",
    "    with open(\"Day_10_input.txt\") as file:\n",
    "        for line in file:\n",
    "            line = line.strip()\n",
    "            if line == \"noop\":\n",
    "                inputfile.append(0)\n",
    "            else:\n",
    "                inputfile.append(int(line.split()[1]))"
   ]
  },
  {
   "cell_type": "code",
   "execution_count": 2,
   "id": "ef9e47ff",
   "metadata": {
    "ExecuteTime": {
     "end_time": "2022-12-10T17:27:17.926845Z",
     "start_time": "2022-12-10T17:27:17.911902Z"
    }
   },
   "outputs": [],
   "source": [
    "def score(cycle, start):\n",
    "    if cycle == 20:\n",
    "        return start * 20\n",
    "    elif (cycle-20)%40 == 0:\n",
    "        return start * cycle\n",
    "    else:\n",
    "        return 0       "
   ]
  },
  {
   "cell_type": "code",
   "execution_count": 3,
   "id": "0894142d",
   "metadata": {
    "ExecuteTime": {
     "end_time": "2022-12-10T17:27:17.942269Z",
     "start_time": "2022-12-10T17:27:17.927844Z"
    }
   },
   "outputs": [
    {
     "data": {
      "text/plain": [
       "14160"
      ]
     },
     "execution_count": 3,
     "metadata": {},
     "output_type": "execute_result"
    }
   ],
   "source": [
    "#part 1\n",
    "inputfile = []\n",
    "get_data()\n",
    "\n",
    "cycle, start, end = 1, 1, 0\n",
    "reading, inputing = True, True\n",
    "addx, strength = 0, 0\n",
    "\n",
    "while inputing:\n",
    "    if reading:\n",
    "        addx = inputfile[0]\n",
    "        inputfile.pop(0)\n",
    "        end = start\n",
    "        if addx != 0:\n",
    "            reading = False\n",
    "        if len(inputfile) == 0:\n",
    "            inputing = False\n",
    "    else:\n",
    "        end = start+addx\n",
    "        if len(inputfile) == 0:\n",
    "            inputing = False\n",
    "        else:\n",
    "            reading = True\n",
    "#     print(cycle, start, end)\n",
    "    strength += score(cycle, start)\n",
    "\n",
    "    cycle += 1\n",
    "    start = end\n",
    "    \n",
    "strength"
   ]
  }
 ],
 "metadata": {
  "kernelspec": {
   "display_name": "Python 3 (ipykernel)",
   "language": "python",
   "name": "python3"
  },
  "language_info": {
   "codemirror_mode": {
    "name": "ipython",
    "version": 3
   },
   "file_extension": ".py",
   "mimetype": "text/x-python",
   "name": "python",
   "nbconvert_exporter": "python",
   "pygments_lexer": "ipython3",
   "version": "3.10.4"
  },
  "toc": {
   "base_numbering": 1,
   "nav_menu": {},
   "number_sections": true,
   "sideBar": true,
   "skip_h1_title": false,
   "title_cell": "Table of Contents",
   "title_sidebar": "Contents",
   "toc_cell": false,
   "toc_position": {},
   "toc_section_display": true,
   "toc_window_display": false
  }
 },
 "nbformat": 4,
 "nbformat_minor": 5
}
