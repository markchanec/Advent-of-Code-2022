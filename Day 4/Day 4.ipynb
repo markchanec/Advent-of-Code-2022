{
 "cells": [
  {
   "cell_type": "code",
   "execution_count": 1,
   "id": "6b654b03",
   "metadata": {
    "ExecuteTime": {
     "end_time": "2022-12-04T12:13:02.772893Z",
     "start_time": "2022-12-04T12:13:02.758541Z"
    },
    "cell_style": "center"
   },
   "outputs": [],
   "source": [
    "first_elve = \"\"\n",
    "second_elve = \"\"\n",
    "work = []\n",
    "\n",
    "with open(\"Day_4_input.txt\") as file:\n",
    "    for line in file:\n",
    "        line = line.strip()\n",
    "        first_elve, second_elve = line.split(\",\")\n",
    "        work.append(first_elve.split(\"-\") + second_elve.split(\"-\"))\n",
    "#         print(first_elve.split(\"-\") + second_elve.split(\"-\"))"
   ]
  },
  {
   "cell_type": "code",
   "execution_count": 2,
   "id": "387135fe",
   "metadata": {
    "ExecuteTime": {
     "end_time": "2022-12-04T12:13:02.788706Z",
     "start_time": "2022-12-04T12:13:02.773768Z"
    }
   },
   "outputs": [
    {
     "data": {
      "text/plain": [
       "490"
      ]
     },
     "execution_count": 2,
     "metadata": {},
     "output_type": "execute_result"
    }
   ],
   "source": [
    "#part 1\n",
    "pairs = 0\n",
    "\n",
    "for i in range(len(work)):\n",
    "    #check elve 1 work within that of elve 2\n",
    "    if int(work[i][0])>=int(work[i][2]) and int(work[i][1])<=int(work[i][3]):\n",
    "        pairs += 1\n",
    "    #check elve 2 work within that of elve 1\n",
    "    elif int(work[i][2])>=int(work[i][0]) and int(work[i][3])<=int(work[i][1]):\n",
    "        pairs += 1\n",
    "    else:\n",
    "        continue\n",
    "\n",
    "pairs"
   ]
  },
  {
   "cell_type": "code",
   "execution_count": 3,
   "id": "262b6152",
   "metadata": {
    "ExecuteTime": {
     "end_time": "2022-12-04T12:13:02.804039Z",
     "start_time": "2022-12-04T12:13:02.789693Z"
    }
   },
   "outputs": [
    {
     "data": {
      "text/plain": [
       "921"
      ]
     },
     "execution_count": 3,
     "metadata": {},
     "output_type": "execute_result"
    }
   ],
   "source": [
    "#part 2\n",
    "pairs = 0\n",
    "\n",
    "for i in range(len(work)):\n",
    "    #from part 1 - retain to reduce processing\n",
    "    if int(work[i][0])>=int(work[i][2]) and int(work[i][1])<=int(work[i][3]):\n",
    "        pairs += 1\n",
    "    elif int(work[i][2])>=int(work[i][0]) and int(work[i][3])<=int(work[i][1]):\n",
    "        pairs += 1\n",
    "    else: #part 2 starts\n",
    "        overlap = False\n",
    "        for j in range(int(work[i][0]), int(work[i][1])+1): #first elve range\n",
    "            if not overlap:\n",
    "                if j in range(int(work[i][2]), int(work[i][3])+1): #second elve range\n",
    "                    pairs += 1\n",
    "                    overlap = True #to exit check if first elve work overlap with second\n",
    "            if not overlap: #if first elve work not overlap in second elve\n",
    "                for j in range(int(work[i][2]), int(work[i][3])+1): #second elve range\n",
    "                    if not overlap:\n",
    "                        if j in range(int(work[i][0]), int(work[i][1])+1): #first elve range\n",
    "                            pairs += 1\n",
    "                            overlap = True\n",
    "                if overlap:\n",
    "                    exit #to exit check if second elve work overlap with first\n",
    "\n",
    "pairs"
   ]
  }
 ],
 "metadata": {
  "kernelspec": {
   "display_name": "Python 3 (ipykernel)",
   "language": "python",
   "name": "python3"
  },
  "language_info": {
   "codemirror_mode": {
    "name": "ipython",
    "version": 3
   },
   "file_extension": ".py",
   "mimetype": "text/x-python",
   "name": "python",
   "nbconvert_exporter": "python",
   "pygments_lexer": "ipython3",
   "version": "3.10.4"
  },
  "toc": {
   "base_numbering": 1,
   "nav_menu": {},
   "number_sections": true,
   "sideBar": true,
   "skip_h1_title": false,
   "title_cell": "Table of Contents",
   "title_sidebar": "Contents",
   "toc_cell": false,
   "toc_position": {},
   "toc_section_display": true,
   "toc_window_display": false
  }
 },
 "nbformat": 4,
 "nbformat_minor": 5
}
