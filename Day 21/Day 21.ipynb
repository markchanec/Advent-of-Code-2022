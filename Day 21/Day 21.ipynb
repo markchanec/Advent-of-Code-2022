{
 "cells": [
  {
   "cell_type": "code",
   "execution_count": 1,
   "id": "6b654b03",
   "metadata": {
    "ExecuteTime": {
     "end_time": "2022-12-23T03:12:55.366150Z",
     "start_time": "2022-12-23T03:12:55.353815Z"
    },
    "cell_style": "center"
   },
   "outputs": [],
   "source": [
    "#substituting known numbers in eqn\n",
    "def subst(num, eqn):\n",
    "    for key in eqn.keys():\n",
    "        if (num.get(eqn[key][0])!=None):\n",
    "            eqn[key][0] = num.get(eqn[key][0])\n",
    "        if (num.get(eqn[key][2])!=None):\n",
    "            eqn[key][2] = num.get(eqn[key][2])\n",
    "    return eqn\n",
    "\n",
    "#rewrite num and eqn as if reading for first time\n",
    "def write_eqn(eqn):\n",
    "    num = {}\n",
    "    eqn_new = eqn.copy()\n",
    "    for key in eqn.keys():\n",
    "        try:#remove solved eqn and insert known numbers\n",
    "            number1 = int(eqn[key][0])\n",
    "            number2 = int(eqn[key][2])\n",
    "            exec(\"num[key] = number1\" + eqn[key][1] + \"number2\")\n",
    "            eqn_new.pop(key)\n",
    "        except:\n",
    "            continue\n",
    "    return(num, eqn_new.copy())"
   ]
  },
  {
   "cell_type": "code",
   "execution_count": 2,
   "id": "379bd005",
   "metadata": {
    "ExecuteTime": {
     "end_time": "2022-12-23T03:12:55.398174Z",
     "start_time": "2022-12-23T03:12:55.367368Z"
    }
   },
   "outputs": [],
   "source": [
    "import re\n",
    "import copy\n",
    "num, eqn = {}, {}\n",
    "\n",
    "with open(\"Day_21_input.txt\") as file:\n",
    "    for line in file:\n",
    "        line_str = line.split(':')\n",
    "        line_int = re.sub(r'[^-\\d]', \"\", line) #get numbers including negative\n",
    "        try: #convert tve and -ve numbers to int\n",
    "            number = int(line_int)\n",
    "            exec(\"num['\" +line_str[0]+ \"'] = number\")\n",
    "        except:            \n",
    "            line_str[1] = line_str[1].strip()\n",
    "            formula = line_str[1].split()\n",
    "            exec(\"eqn['\" +line_str[0]+ \"'] = formula\")\n",
    "\n",
    "original_num = copy.deepcopy(num)   \n",
    "original_eqn = copy.deepcopy(eqn)"
   ]
  },
  {
   "cell_type": "code",
   "execution_count": 3,
   "id": "8a38c895",
   "metadata": {
    "ExecuteTime": {
     "end_time": "2022-12-23T03:12:55.428960Z",
     "start_time": "2022-12-23T03:12:55.399235Z"
    }
   },
   "outputs": [
    {
     "data": {
      "text/plain": [
       "{'root': 31017034894002}"
      ]
     },
     "execution_count": 3,
     "metadata": {},
     "output_type": "execute_result"
    }
   ],
   "source": [
    "#part 1\n",
    "while len(eqn)!=0:\n",
    "    eqn = subst(num, eqn)\n",
    "    num, eqn = write_eqn(eqn)\n",
    "num"
   ]
  },
  {
   "cell_type": "code",
   "execution_count": 4,
   "id": "71a62d58",
   "metadata": {
    "ExecuteTime": {
     "end_time": "2022-12-23T03:12:55.460692Z",
     "start_time": "2022-12-23T03:12:55.430673Z"
    }
   },
   "outputs": [],
   "source": [
    "#part 2\n",
    "num = copy.deepcopy(original_num)   \n",
    "eqn1 = copy.deepcopy(original_eqn)\n",
    "num.pop('humn')\n",
    "humn = 1\n",
    "eqn2 = {}\n",
    "same = False\n",
    "\n",
    "while not same: #simplify eqn as much as possible\n",
    "    eqn1 = subst(num, eqn1)\n",
    "    num, eqn2 = write_eqn(eqn1)\n",
    "    if eqn1==eqn2:\n",
    "        same = True\n",
    "    eqn1 = copy.deepcopy(eqn2)"
   ]
  },
  {
   "cell_type": "code",
   "execution_count": 5,
   "id": "1832fe22",
   "metadata": {
    "ExecuteTime": {
     "end_time": "2022-12-23T03:12:55.476631Z",
     "start_time": "2022-12-23T03:12:55.461767Z"
    }
   },
   "outputs": [],
   "source": [
    "def operation(humn, operation_key, amt, pos=2):\n",
    "    if operation_key == \"+\":\n",
    "        return humn - amt\n",
    "    elif operation_key == \"-\":\n",
    "        if pos == 1:\n",
    "            # humn = amt- unknown => unk = amt - humn\n",
    "            return amt - humn\n",
    "        return humn + amt\n",
    "    elif operation_key == \"*\":\n",
    "        return humn / amt\n",
    "    else:\n",
    "        return humn * amt\n",
    "\n",
    "def reverse_eqn(key, humn):\n",
    "    value1 = eqn1.get(key)[0]\n",
    "    value2 = eqn1.get(key)[2]\n",
    "\n",
    "    new_key = \"\"\n",
    "#     print(humn, value1, eqn1.get(key)[1], value2)\n",
    "    try:\n",
    "        if key!= \"root\":\n",
    "            humn = operation(humn, eqn1.get(key)[1], int(value1), 1)\n",
    "        else:\n",
    "            amt = int(value1)\n",
    "        new_key = value2\n",
    "    except:\n",
    "        if key!= \"root\":\n",
    "            humn = operation(humn, eqn1.get(key)[1], int(value2))\n",
    "        else:\n",
    "            humn = int(value2)\n",
    "        new_key = value1\n",
    "\n",
    "    return new_key, humn"
   ]
  },
  {
   "cell_type": "code",
   "execution_count": 6,
   "id": "626c9b8f",
   "metadata": {
    "ExecuteTime": {
     "end_time": "2022-12-23T03:12:55.489247Z",
     "start_time": "2022-12-23T03:12:55.477616Z"
    }
   },
   "outputs": [
    {
     "data": {
      "text/plain": [
       "('humn', 3555057453229.0)"
      ]
     },
     "execution_count": 6,
     "metadata": {},
     "output_type": "execute_result"
    }
   ],
   "source": [
    "key = \"root\"\n",
    "humn = 0\n",
    "\n",
    "while key != \"humn\":\n",
    "    key, humn = reverse_eqn(key, humn)\n",
    "key,humn"
   ]
  }
 ],
 "metadata": {
  "kernelspec": {
   "display_name": "Python 3 (ipykernel)",
   "language": "python",
   "name": "python3"
  },
  "language_info": {
   "codemirror_mode": {
    "name": "ipython",
    "version": 3
   },
   "file_extension": ".py",
   "mimetype": "text/x-python",
   "name": "python",
   "nbconvert_exporter": "python",
   "pygments_lexer": "ipython3",
   "version": "3.10.4"
  },
  "toc": {
   "base_numbering": 1,
   "nav_menu": {},
   "number_sections": true,
   "sideBar": true,
   "skip_h1_title": false,
   "title_cell": "Table of Contents",
   "title_sidebar": "Contents",
   "toc_cell": false,
   "toc_position": {},
   "toc_section_display": true,
   "toc_window_display": false
  }
 },
 "nbformat": 4,
 "nbformat_minor": 5
}
